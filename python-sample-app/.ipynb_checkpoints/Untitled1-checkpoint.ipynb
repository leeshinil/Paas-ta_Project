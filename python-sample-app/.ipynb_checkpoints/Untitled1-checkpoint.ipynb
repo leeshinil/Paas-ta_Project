{
 "cells": [
  {
   "cell_type": "code",
   "execution_count": 1,
   "metadata": {
    "collapsed": true
   },
   "outputs": [],
   "source": [
    "import folium\n",
    "import pandas as pd\n",
    "\n",
    "import urllib2\n",
    "\n",
    "import time\n",
    "import json\n",
    "import webbrowser\n",
    "import re\n",
    "import os\n",
    "import sys\n",
    "\n",
    "import datetime\n",
    "\n",
    "from math import sin,acos,cos,radians"
   ]
  },
  {
   "cell_type": "code",
   "execution_count": 2,
   "metadata": {
    "collapsed": true
   },
   "outputs": [],
   "source": [
    "def get_request_url(url):\n",
    "    req = urllib2.Request(url)\n",
    "    app_id = \"jC7Y2ZpwHDqfY610tWA1\"\n",
    "    app_secret = \"O1zirSBBjx\"\n",
    "    req.add_header(\"X-Naver-Client-ID\", app_id)\n",
    "    req.add_header(\"X-Naver-Client-Secret\", app_secret)\n",
    "    \n",
    "    try:\n",
    "        response = urllib2.urlopen(req)\n",
    "        if response.getcode() == 200:\n",
    "            return response.read().decode('utf-8')\n",
    "    except Exception as e:\n",
    "        print(e)\n",
    "        return None"
   ]
  },
  {
   "cell_type": "code",
   "execution_count": 3,
   "metadata": {},
   "outputs": [],
   "source": [
    "def getGeoData(address):\n",
    "    base = \"https://openapi.naver.com/v1/map/geocode\"\n",
    "    # naver 지도 api 사용.\n",
    "\n",
    "    parameters = \"\"\n",
    "    \n",
    "    try:\n",
    "        parameters = \"?query=%s\" % urllib2.quote(address)\n",
    "    except:\n",
    "        return None\n",
    "\n",
    "    url = base + parameters\n",
    "    \n",
    "    retData = get_request_url(url)\n",
    "    if retData == None:\n",
    "        return None\n",
    "\n",
    "    jsonAddress = json.loads(retData)\n",
    "\n",
    "    if 'result' in jsonAddress.keys():\n",
    "        latitude = jsonAddress['result']['items'][0]['point']['y']\n",
    "        longitude = jsonAddress['result']['items'][0]['point']['x']\n",
    "    else:\n",
    "        return None\n",
    "\n",
    "    return [latitude, longitude]"
   ]
  },
  {
   "cell_type": "code",
   "execution_count": 4,
   "metadata": {
    "collapsed": true
   },
   "outputs": [],
   "source": [
    "def calc_distance(my_location,target_location):\n",
    "    return 6371 * acos(cos(radians(my_location[0])) * cos(radians(target_location[0])) * \\\n",
    "                       cos(radians(target_location[1]) - radians(my_location[1])) + \\\n",
    "                       sin(radians(my_location[0])) * sin(radians(target_location[0])))"
   ]
  },
  {
   "cell_type": "code",
   "execution_count": 5,
   "metadata": {
    "collapsed": true
   },
   "outputs": [],
   "source": [
    "def draw_marker(date,now,schedule,pop_up,row,csv):\n",
    "    if date <= 4:\n",
    "        h = re.findall(r\"\\d+\",str(csv[pop_up]))\n",
    "        if h!=[]:\n",
    "            start = m[0]+\"\"+m[1]\n",
    "            end =  m[2]+\"\"+m[3]\n",
    "            if now >= int(start) and now <= int(end):\n",
    "                return \"의원명 : \" + row['의원명'] + \"<br>대표전화 : \" + row['대표전화'] + \"<br>\" + pop_up + \":\"+ row[pop_up]\n",
    "    return"
   ]
  },
  {
   "cell_type": "code",
   "execution_count": 6,
   "metadata": {
    "collapsed": true
   },
   "outputs": [],
   "source": [
    "def to_date(date,flag):\n",
    "    if flag==1:\n",
    "        return date\n",
    "    if date <= 4:\n",
    "        return 0\n",
    "    elif date == 5:\n",
    "        return 1\n",
    "    elif date == 6:\n",
    "        return 2\n",
    "    else:\n",
    "        return 3"
   ]
  },
  {
   "cell_type": "code",
   "execution_count": 7,
   "metadata": {
    "collapsed": true
   },
   "outputs": [],
   "source": [
    "def to_time(current_time,target_time):\n",
    "    h = re.findall(r\"\\d+\",str(target_time))\n",
    "    if h!=[]:\n",
    "        start = h[0]+\"\"+h[1]\n",
    "        end =  h[2]+\"\"+h[3]\n",
    "        if current_time >= int(start) and current_time <= int(end):\n",
    "            return True\n",
    "    else:\n",
    "        return False"
   ]
  },
  {
   "cell_type": "code",
   "execution_count": 8,
   "metadata": {
    "collapsed": true
   },
   "outputs": [],
   "source": [
    "def main():\n",
    "    #-*- coding: utf-8 -*-\n",
    "    \n",
    "    # 현재 요일\n",
    "    date = time.localtime()\n",
    "    date = date.tm_wday\n",
    "    \n",
    "    # 현재 시각\n",
    "    now = datetime.datetime.now()\n",
    "    now = int(now.hour) * 100 + int(now.minute)\n",
    "    \n",
    "    # 반경 값\n",
    "    radius = 0.5\n",
    "    \n",
    "    # 현재 위치\n",
    "    print(\"주소 입력 : \")\n",
    "    address = str(raw_input())\n",
    "    address = address.decode('cp949').encode('utf-8')\n",
    "   \n",
    "    current_location = getGeoData(address)\n",
    "    \n",
    "    #print address.decode('cp949').encode('utf-8')\n",
    "\n",
    "    \n",
    "    # 지도 데이터\n",
    "    map = folium.Map(location=current_location, zoom_start=15)\n",
    "    colormap = [\"red\",\"blue\",\"yellow\",\"black\",\"green\",\"pink\"]\n",
    "    \n",
    "    # csv file 경로 얻기\n",
    "    csv_list = os.listdir(\"./\")\n",
    "    csv_list = [idx for idx in csv_list if 'csv' in idx]\n",
    "    \n",
    "    #csv dataframe 으로 불러오기\n",
    "    hospital = pd.DataFrame.from_csv(csv_list[0], encoding='CP949', index_col=0, header=0)\n",
    "    hospital_type = list(hospital[u\"업무구분\"].unique())\n",
    "    hospital_date = [u\"평일 진료\",u\"토요일 진료\",u\"일요일 진료\",u\"공휴일 진료\"]\n",
    "    \n",
    "    pharmacy = pd.DataFrame.from_csv(csv_list[1], encoding='CP949', index_col=0, header=0)\n",
    "    pharmacy_date = [u\"월요일 운영\",u\"화요일 운영\",u\"수요일 운영\",u\"목요일 운영\",u\"금요일 운영\",u\"토요일 운영\",u\"일요일 운영\",u\"공휴일 운영\",]\n",
    "    \n",
    "    \n",
    "    \n",
    "    for index , row in hospital.iterrows():\n",
    "        geoData = []\n",
    "        geoData.append(row[u\"위도\"])\n",
    "        geoData.append(row[u\"경도\"])\n",
    "        \n",
    "        distance = calc_distance(current_location,geoData)\n",
    "\n",
    "        if geoData != None and distance < radius:\n",
    "            pop_up = u\"의원명 : \" + row[u'의원명'] + u\"<br>대표전화 : \" + row[u'대표전화']\n",
    "            if to_time(now,row[hospital_date[to_date(date,0)]])==True:\n",
    "                pop_up = pop_up + \"<br>\" +  hospital_date[to_date(date,0)] + row[hospital_date[to_date(date,0)]]\n",
    "                for i in hospital_type:\n",
    "                    if i==row[u\"업무구분\"]:\n",
    "                        folium.Marker(geoData,popup=pop_up,icon=folium.Icon(icon=\"plus\", color=colormap[hospital_type.index(i)])).add_to(map)\n",
    "    for index , row in pharmacy.iterrows():\n",
    "        geoData = []\n",
    "        geoData.append(row[u\"위도\"])\n",
    "        geoData.append(row[u\"경도\"])\n",
    "\n",
    "        distance = calc_distance(current_location,geoData)\n",
    "        \n",
    "        if geoData != None and distance < radius:\n",
    "            pop_up = u\"약국명 : \" + row[u'약국명'] + u\"<br>대표전화 : \" + row[u'대표전화']\n",
    "            if to_time(now,row[pharmacy_date[to_date(date,1)]])==True:\n",
    "                pop_up = pop_up + \"<br>\" +  pharmacy_date[to_date(date,1)] + row[pharmacy_date[to_date(date,1)]]\n",
    "                pop_up = pop_up + '<br><form action=\"#\"><input type=\"submit\" value=\"submit\"></form>'\n",
    "                folium.Marker(geoData,popup=pop_up,icon=folium.Icon(icon=\"minus\",color=colormap[hospital_type.index(i)])).add_to(map)\n",
    "    \n",
    "    svFilename = './total.html'\n",
    "    map.save(svFilename)\n",
    "    \n",
    "    webbrowser.open(svFilename)\n",
    "\n",
    "\n"
   ]
  },
  {
   "cell_type": "code",
   "execution_count": 9,
   "metadata": {},
   "outputs": [
    {
     "name": "stdout",
     "output_type": "stream",
     "text": [
      "주소 입력 : \n",
      "서울시\n"
     ]
    },
    {
     "ename": "UnboundLocalError",
     "evalue": "local variable 'i' referenced before assignment",
     "output_type": "error",
     "traceback": [
      "\u001b[1;31m---------------------------------------------------------------------------\u001b[0m",
      "\u001b[1;31mUnboundLocalError\u001b[0m                         Traceback (most recent call last)",
      "\u001b[1;32m<ipython-input-9-972361fa1b80>\u001b[0m in \u001b[0;36m<module>\u001b[1;34m()\u001b[0m\n\u001b[0;32m      1\u001b[0m \u001b[1;32mif\u001b[0m \u001b[0m__name__\u001b[0m \u001b[1;33m==\u001b[0m \u001b[1;34m\"__main__\"\u001b[0m\u001b[1;33m:\u001b[0m\u001b[1;33m\u001b[0m\u001b[0m\n\u001b[1;32m----> 2\u001b[1;33m     \u001b[0mmain\u001b[0m\u001b[1;33m(\u001b[0m\u001b[1;33m)\u001b[0m\u001b[1;33m\u001b[0m\u001b[0m\n\u001b[0m",
      "\u001b[1;32m<ipython-input-8-2656d8f9487c>\u001b[0m in \u001b[0;36mmain\u001b[1;34m()\u001b[0m\n\u001b[0;32m     68\u001b[0m                 \u001b[0mpop_up\u001b[0m \u001b[1;33m=\u001b[0m \u001b[0mpop_up\u001b[0m \u001b[1;33m+\u001b[0m \u001b[1;34m\"<br>\"\u001b[0m \u001b[1;33m+\u001b[0m  \u001b[0mpharmacy_date\u001b[0m\u001b[1;33m[\u001b[0m\u001b[0mto_date\u001b[0m\u001b[1;33m(\u001b[0m\u001b[0mdate\u001b[0m\u001b[1;33m,\u001b[0m\u001b[1;36m1\u001b[0m\u001b[1;33m)\u001b[0m\u001b[1;33m]\u001b[0m \u001b[1;33m+\u001b[0m \u001b[0mrow\u001b[0m\u001b[1;33m[\u001b[0m\u001b[0mpharmacy_date\u001b[0m\u001b[1;33m[\u001b[0m\u001b[0mto_date\u001b[0m\u001b[1;33m(\u001b[0m\u001b[0mdate\u001b[0m\u001b[1;33m,\u001b[0m\u001b[1;36m1\u001b[0m\u001b[1;33m)\u001b[0m\u001b[1;33m]\u001b[0m\u001b[1;33m]\u001b[0m\u001b[1;33m\u001b[0m\u001b[0m\n\u001b[0;32m     69\u001b[0m                 \u001b[0mpop_up\u001b[0m \u001b[1;33m=\u001b[0m \u001b[0mpop_up\u001b[0m \u001b[1;33m+\u001b[0m \u001b[1;34m'<br><form action=\"#\"><input type=\"submit\" value=\"submit\"></form>'\u001b[0m\u001b[1;33m\u001b[0m\u001b[0m\n\u001b[1;32m---> 70\u001b[1;33m                 \u001b[0mfolium\u001b[0m\u001b[1;33m.\u001b[0m\u001b[0mMarker\u001b[0m\u001b[1;33m(\u001b[0m\u001b[0mgeoData\u001b[0m\u001b[1;33m,\u001b[0m\u001b[0mpopup\u001b[0m\u001b[1;33m=\u001b[0m\u001b[0mpop_up\u001b[0m\u001b[1;33m,\u001b[0m\u001b[0micon\u001b[0m\u001b[1;33m=\u001b[0m\u001b[0mfolium\u001b[0m\u001b[1;33m.\u001b[0m\u001b[0mIcon\u001b[0m\u001b[1;33m(\u001b[0m\u001b[0micon\u001b[0m\u001b[1;33m=\u001b[0m\u001b[1;34m\"minus\"\u001b[0m\u001b[1;33m,\u001b[0m\u001b[0mcolor\u001b[0m\u001b[1;33m=\u001b[0m\u001b[0mcolormap\u001b[0m\u001b[1;33m[\u001b[0m\u001b[0mhospital_type\u001b[0m\u001b[1;33m.\u001b[0m\u001b[0mindex\u001b[0m\u001b[1;33m(\u001b[0m\u001b[0mi\u001b[0m\u001b[1;33m)\u001b[0m\u001b[1;33m]\u001b[0m\u001b[1;33m)\u001b[0m\u001b[1;33m)\u001b[0m\u001b[1;33m.\u001b[0m\u001b[0madd_to\u001b[0m\u001b[1;33m(\u001b[0m\u001b[0mmap\u001b[0m\u001b[1;33m)\u001b[0m\u001b[1;33m\u001b[0m\u001b[0m\n\u001b[0m\u001b[0;32m     71\u001b[0m \u001b[1;33m\u001b[0m\u001b[0m\n\u001b[0;32m     72\u001b[0m     \u001b[0msvFilename\u001b[0m \u001b[1;33m=\u001b[0m \u001b[1;34m'./total.html'\u001b[0m\u001b[1;33m\u001b[0m\u001b[0m\n",
      "\u001b[1;31mUnboundLocalError\u001b[0m: local variable 'i' referenced before assignment"
     ]
    }
   ],
   "source": [
    "if __name__ == \"__main__\":\n",
    "    main()"
   ]
  },
  {
   "cell_type": "code",
   "execution_count": 234,
   "metadata": {},
   "outputs": [
    {
     "name": "stdout",
     "output_type": "stream",
     "text": [
      "https://openapi.naver.com/v1/map/geocode\n"
     ]
    }
   ],
   "source": [
    "base = \"https://openapi.naver.com/v1/map/geocode\"\n",
    "print base"
   ]
  },
  {
   "cell_type": "code",
   "execution_count": null,
   "metadata": {
    "collapsed": true
   },
   "outputs": [],
   "source": []
  }
 ],
 "metadata": {
  "kernelspec": {
   "display_name": "python2",
   "language": "python",
   "name": "python2"
  }
 },
 "nbformat": 4,
 "nbformat_minor": 2
}
